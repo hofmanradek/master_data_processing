{
 "cells": [
  {
   "cell_type": "markdown",
   "metadata": {},
   "source": [
    "## Parsing of Wolfgans's masters"
   ]
  },
  {
   "cell_type": "code",
   "execution_count": 42,
   "metadata": {},
   "outputs": [],
   "source": [
    "import os\n",
    "from collections import Counter as Σ"
   ]
  },
  {
   "cell_type": "code",
   "execution_count": 90,
   "metadata": {
    "scrolled": true
   },
   "outputs": [
    {
     "data": {
      "text/plain": [
       "['.ipynb_checkpoints',\n",
       " '[0370ab8c].arrival',\n",
       " '[0370ab8c].w',\n",
       " '[0370ab8c].wfdisc',\n",
       " '[079d0639].arrival',\n",
       " '[079d0639].w',\n",
       " '[079d0639].wfdisc',\n",
       " '[0b25bc20].arrival',\n",
       " '[0b25bc20].w',\n",
       " '[0b25bc20].wfdisc']"
      ]
     },
     "execution_count": 90,
     "metadata": {},
     "output_type": "execute_result"
    }
   ],
   "source": [
    "sorted(os.listdir('.'))[:10]"
   ]
  },
  {
   "cell_type": "code",
   "execution_count": 121,
   "metadata": {},
   "outputs": [
    {
     "name": "stdout",
     "output_type": "stream",
     "text": [
      "Found 69 files\n"
     ]
    }
   ],
   "source": [
    "# for shorter notation\n",
    "Φ = filter\n",
    "# helper generic lambda function for shorte notation\n",
    "λ = lambda ψ,*χ: eval(f'lambda {\",\".join(χ)}: {ψ}')\n",
    "# extension we want\n",
    "exts = ('arrival','w','wfdisc')\n",
    "# returns just those file names which appear in the folder β-times with any of wanted extension\n",
    "files = [ω[0] for ω in Φ(λ('α[1]==β','α','β=3'), Σ(Φ(λ('\"[\" in α','α'),[ω.split('.')[0] for ω in os.listdir('.') if ω.split('.')[1] in exts])).items())]\n",
    "# what we get\n",
    "print(f'Found {len(files)} files')"
   ]
  },
  {
   "cell_type": "code",
   "execution_count": 67,
   "metadata": {},
   "outputs": [
    {
     "data": {
      "text/plain": [
       "['[5060f0ad]',\n",
       " '[6a1957ef]',\n",
       " '[6295864a]',\n",
       " '[925d9fce]',\n",
       " '[571d9644]',\n",
       " '[d26ca07d]',\n",
       " '[77f26b72]',\n",
       " '[bf31359e]',\n",
       " '[f6018899]',\n",
       " '[688f56c1]',\n",
       " '[1cb26f85]',\n",
       " '[d1cbeee8]',\n",
       " '[13628b08]',\n",
       " '[3f9f9758]',\n",
       " '[9f7910ec]',\n",
       " '[5e04ce5d]',\n",
       " '[c970e6bc]',\n",
       " '[f213f7e0]',\n",
       " '[7bb344ab]',\n",
       " '[b9e98513]',\n",
       " '[7dfecec0]',\n",
       " '[aed2ee49]',\n",
       " '[0f7dbaf7]',\n",
       " '[3d9ca658]',\n",
       " '[f6109aba]',\n",
       " '[9f5d3093]',\n",
       " '[7b53b07c]',\n",
       " '[c62d65e5]',\n",
       " '[d4555327]',\n",
       " '[0370ab8c]',\n",
       " '[2a89fede]',\n",
       " '[f832e8c1]',\n",
       " '[1e7e409b]',\n",
       " '[47c7bb4c]',\n",
       " '[b1d96591]',\n",
       " '[beadd8f3]',\n",
       " '[2f87e7ab]',\n",
       " '[281c3b24]',\n",
       " '[462d5b6a]',\n",
       " '[bc92ec3a]',\n",
       " '[0b25bc20]',\n",
       " '[c8dba30a]',\n",
       " '[1f03f523]',\n",
       " '[70aa35a9]',\n",
       " '[56b89d60]',\n",
       " '[d40c2c88]',\n",
       " '[bc343f57]',\n",
       " '[fb0f0292]',\n",
       " '[8dd6b54f]',\n",
       " '[42c3454e]',\n",
       " '[1c9e29d9]',\n",
       " '[4677f0c2]',\n",
       " '[aec03504]',\n",
       " '[a4688e22]',\n",
       " '[96bf9685]',\n",
       " '[bef4cd15]',\n",
       " '[878bad71]',\n",
       " '[2ff5309d]',\n",
       " '[079d0639]',\n",
       " '[deb4cf86]',\n",
       " '[bf0b59d1]',\n",
       " '[e3b6ef4c]',\n",
       " '[747d4812]',\n",
       " '[cc735fdc]',\n",
       " '[d0875427]',\n",
       " '[d14454a7]',\n",
       " '[abad9056]',\n",
       " '[440a8ca3]',\n",
       " '[eb08e308]']"
      ]
     },
     "execution_count": 67,
     "metadata": {},
     "output_type": "execute_result"
    }
   ],
   "source": [
    "files"
   ]
  },
  {
   "cell_type": "code",
   "execution_count": null,
   "metadata": {},
   "outputs": [],
   "source": []
  }
 ],
 "metadata": {
  "kernelspec": {
   "display_name": "Python 3",
   "language": "python",
   "name": "python3"
  },
  "language_info": {
   "codemirror_mode": {
    "name": "ipython",
    "version": 3
   },
   "file_extension": ".py",
   "mimetype": "text/x-python",
   "name": "python",
   "nbconvert_exporter": "python",
   "pygments_lexer": "ipython3",
   "version": "3.6.8"
  }
 },
 "nbformat": 4,
 "nbformat_minor": 2
}
