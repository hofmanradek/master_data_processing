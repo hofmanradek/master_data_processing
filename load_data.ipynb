{
 "cells": [
  {
   "cell_type": "markdown",
   "metadata": {},
   "source": [
    "## Parsing of Wolfgang's masters"
   ]
  },
  {
   "cell_type": "code",
   "execution_count": 1,
   "metadata": {},
   "outputs": [],
   "source": [
    "import os\n",
    "from collections import Counter as Σ"
   ]
  },
  {
   "cell_type": "code",
   "execution_count": 2,
   "metadata": {
    "scrolled": true
   },
   "outputs": [
    {
     "data": {
      "text/plain": [
       "['.ipynb_checkpoints',\n",
       " '[0370ab8c].arrival',\n",
       " '[0370ab8c].w',\n",
       " '[0370ab8c].wfdisc',\n",
       " '[079d0639].arrival',\n",
       " '[079d0639].w',\n",
       " '[079d0639].wfdisc',\n",
       " '[0b25bc20].arrival',\n",
       " '[0b25bc20].w',\n",
       " '[0b25bc20].wfdisc']"
      ]
     },
     "execution_count": 2,
     "metadata": {},
     "output_type": "execute_result"
    }
   ],
   "source": [
    "path = os.path.join('..','test_2015002_2019364')\n",
    "sorted(os.listdir(path))[:10]"
   ]
  },
  {
   "cell_type": "code",
   "execution_count": 3,
   "metadata": {},
   "outputs": [
    {
     "name": "stdout",
     "output_type": "stream",
     "text": [
      "Found 69 files\n"
     ]
    }
   ],
   "source": [
    "# for shorter notation\n",
    "Φ = filter\n",
    "\n",
    "# helper generic lambda function for shorter and more confusing notation\n",
    "λ = lambda ψ,*χ: eval(f'lambda {\",\".join(χ)}: {ψ}')\n",
    "\n",
    "# path to files and their list\n",
    "f = os.listdir(path)\n",
    "\n",
    "# extension we want\n",
    "exts = ('arrival','w','wfdisc')\n",
    "\n",
    "# returns just those file names which appear in the folder 3-times with any of wanted extension\n",
    "fs = [ω[0] for ω in Σ([ω[0] for ω in Φ(λ('α[1] in exts','α'),[ω.split('.') for ω in f])]).items() if ω[1]==3]\n",
    "\n",
    "# the same showing the parametrized lambda for two params but even more difficult to read (β-times occurence)\n",
    "fs = [ω[0] for ω in Φ(λ('α[1]==β','α','β=3'),Σ([ω[0] for ω in Φ(λ('α[1] in exts','α'),[ω.split('.') for ω in f])]).items())]\n",
    "\n",
    "# what we get\n",
    "print(f'Found {len(fs)} files')"
   ]
  },
  {
   "cell_type": "code",
   "execution_count": 4,
   "metadata": {},
   "outputs": [
    {
     "data": {
      "text/plain": [
       "['[0370ab8c]',\n",
       " '[079d0639]',\n",
       " '[0b25bc20]',\n",
       " '[0f7dbaf7]',\n",
       " '[13628b08]',\n",
       " '[1c9e29d9]',\n",
       " '[1cb26f85]',\n",
       " '[1e7e409b]',\n",
       " '[1f03f523]',\n",
       " '[281c3b24]',\n",
       " '[2a89fede]',\n",
       " '[2f87e7ab]',\n",
       " '[2ff5309d]',\n",
       " '[3d9ca658]',\n",
       " '[3f9f9758]',\n",
       " '[42c3454e]',\n",
       " '[440a8ca3]',\n",
       " '[462d5b6a]',\n",
       " '[4677f0c2]',\n",
       " '[47c7bb4c]',\n",
       " '[5060f0ad]',\n",
       " '[56b89d60]',\n",
       " '[571d9644]',\n",
       " '[5e04ce5d]',\n",
       " '[6295864a]',\n",
       " '[688f56c1]',\n",
       " '[6a1957ef]',\n",
       " '[70aa35a9]',\n",
       " '[747d4812]',\n",
       " '[77f26b72]',\n",
       " '[7b53b07c]',\n",
       " '[7bb344ab]',\n",
       " '[7dfecec0]',\n",
       " '[878bad71]',\n",
       " '[8dd6b54f]',\n",
       " '[925d9fce]',\n",
       " '[96bf9685]',\n",
       " '[9f5d3093]',\n",
       " '[9f7910ec]',\n",
       " '[a4688e22]',\n",
       " '[abad9056]',\n",
       " '[aec03504]',\n",
       " '[aed2ee49]',\n",
       " '[b1d96591]',\n",
       " '[b9e98513]',\n",
       " '[bc343f57]',\n",
       " '[bc92ec3a]',\n",
       " '[beadd8f3]',\n",
       " '[bef4cd15]',\n",
       " '[bf0b59d1]',\n",
       " '[bf31359e]',\n",
       " '[c62d65e5]',\n",
       " '[c8dba30a]',\n",
       " '[c970e6bc]',\n",
       " '[cc735fdc]',\n",
       " '[d0875427]',\n",
       " '[d14454a7]',\n",
       " '[d1cbeee8]',\n",
       " '[d26ca07d]',\n",
       " '[d40c2c88]',\n",
       " '[d4555327]',\n",
       " '[deb4cf86]',\n",
       " '[e3b6ef4c]',\n",
       " '[eb08e308]',\n",
       " '[f213f7e0]',\n",
       " '[f6018899]',\n",
       " '[f6109aba]',\n",
       " '[f832e8c1]',\n",
       " '[fb0f0292]']"
      ]
     },
     "execution_count": 4,
     "metadata": {},
     "output_type": "execute_result"
    }
   ],
   "source": [
    "sorted(fs)"
   ]
  },
  {
   "cell_type": "code",
   "execution_count": null,
   "metadata": {},
   "outputs": [],
   "source": []
  }
 ],
 "metadata": {
  "kernelspec": {
   "display_name": "Python 3",
   "language": "python",
   "name": "python3"
  },
  "language_info": {
   "codemirror_mode": {
    "name": "ipython",
    "version": 3
   },
   "file_extension": ".py",
   "mimetype": "text/x-python",
   "name": "python",
   "nbconvert_exporter": "python",
   "pygments_lexer": "ipython3",
   "version": "3.6.8"
  }
 },
 "nbformat": 4,
 "nbformat_minor": 2
}
